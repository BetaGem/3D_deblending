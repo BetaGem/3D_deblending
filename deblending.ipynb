{
 "cells": [
  {
   "cell_type": "markdown",
   "id": "5ad216d0-8eec-47f0-a12f-6f42c94e6616",
   "metadata": {
    "tags": []
   },
   "source": [
    "## 3D deblending for astronomical data cubes\n",
    "This notebook provides an example of deblending HI gas in galaxy pairs.   \n",
    "\n",
    "See the accompanied paper for more details: [Huang et al. 2024]()"
   ]
  },
  {
   "cell_type": "markdown",
   "id": "c9fb0488-23c8-4bcd-9dc8-ceaeda070566",
   "metadata": {},
   "source": [
    "## 1. Input files\n",
    "\n",
    "- cube: HI data cube\n",
    "- mask: mask cube\n",
    "- opti: optical image of the same field cut from [DESI Legacy Imaging Surveys](https://www.legacysurvey.org)\n",
    "- img: RGB image cut from DESI Legacy Imaging Surveys (for visualization only)\n",
    "\n",
    "If you don't have those DESI images, see the *last cell* of this notebook, or use images from other surveys instead.  \n",
    "\n",
    "**NOTE:**  \n",
    "Currently, the code requires that the spaxel size of the data cube is an integral multiple of the pixel size of the optical images.  (Otherwise one should use the package ```reproject``` and modify the code yourself.)  \n",
    "\n",
    "For example, the spaxel size of our HI data is 6'', so we downgrade the DESI images to 1''."
   ]
  },
  {
   "cell_type": "code",
   "execution_count": null,
   "id": "9ae042ee-36ad-4827-9389-3e846bfb87b1",
   "metadata": {
    "tags": []
   },
   "outputs": [],
   "source": [
    "import numpy as np\n",
    "from astropy.io import fits\n",
    "import astropy.units as u\n",
    "from astropy.coordinates import SkyCoord\n",
    "import matplotlib.pyplot as plt"
   ]
  },
  {
   "cell_type": "code",
   "execution_count": null,
   "id": "9c5b77ed-f494-4b02-b3d5-868c4416713c",
   "metadata": {
    "tags": []
   },
   "outputs": [],
   "source": [
    "# load data\n",
    "name = \"WALLABY_J103540-284607\"\n",
    "cube = fits.open(f\"./data/{name}_cube.fits\")\n",
    "mask = fits.open(f\"./data/{name}_mask.fits\")\n",
    "opti = fits.open(f\"./data/{name}_desi.fits\")\n",
    "img = np.flipud(plt.imread(f\"./data/{name}_opt.jpg\"))\n",
    "pix = 6   # 6\"/1\" = 6\n",
    "\n",
    "# moment-0 map\n",
    "mom0 = np.nansum(cube[0].data * mask[0].data, axis=0)\n",
    "masked_mom0 = np.ma.masked_array(mom0, np.abs(mom0) < 1e-8)\n",
    "\n",
    "# shape of the data cube\n",
    "z, h, w = np.shape(cube[0].data)\n",
    "\n",
    "# coordinate systems (please use J2000)\n",
    "from astropy.wcs import WCS\n",
    "wcs = WCS(cube[0].header).celestial\n",
    "wcs_opt = WCS(opti[0].header)\n",
    "coords = wcs.pixel_to_world(w/2-0.5, h/2-0.5)"
   ]
  },
  {
   "cell_type": "markdown",
   "id": "4fb3ddac-5f18-4068-95d2-86d7e6500e4f",
   "metadata": {},
   "source": [
    "Now we can display the images to have a first impression of our data. Here we show a trival case that the two galaxies are well separated, and a 2D deblending algorithm (e.g. [_photutils.segmentation.deblend_sources_](https://photutils.readthedocs.io/en/stable/api/photutils.segmentation.deblend_sources.html)) may be good enough."
   ]
  },
  {
   "cell_type": "code",
   "execution_count": null,
   "id": "52cf7e6f-4a5b-4de1-8d52-60cff9a9d848",
   "metadata": {
    "tags": []
   },
   "outputs": [],
   "source": [
    "plt.figure(figsize=(5,5))\n",
    "plt.subplot(111, projection=wcs)\n",
    "plt.imshow(img, extent=[-.5, w-.5, -.5, h-.5])\n",
    "plt.imshow(masked_mom0, alpha=0.2, cmap=\"jet\")"
   ]
  },
  {
   "cell_type": "markdown",
   "id": "c7c0cfdd-cc0f-44bd-a2f9-06e29e298fd8",
   "metadata": {
    "jp-MarkdownHeadingCollapsed": true
   },
   "source": [
    "#### Image cut\n",
    "\n",
    "- If the sources only exist at the center of the image, we may wish to cut the data to speed up following procedures:"
   ]
  },
  {
   "cell_type": "code",
   "execution_count": null,
   "id": "d9a97007-ccf9-4878-9355-7766bfbe5a95",
   "metadata": {},
   "outputs": [],
   "source": [
    "def center_cut(margin=0):\n",
    "    '''\n",
    "    clip the data if sources only exist at the central region.\n",
    "    \n",
    "    Parameters\n",
    "    ----------\n",
    "    margin : int. The number of pixels at the edge of the HI cube to be deleted. \n",
    "\n",
    "    Returns\n",
    "    -------\n",
    "    All cube/image/wcs after the cut.\n",
    "    '''\n",
    "    # cut HI data cubes\n",
    "    cube_cut = cube.copy()\n",
    "    mask_cut = mask.copy()\n",
    "    cube_cut[0].data = cube_cut[0].data[:, margin:h-margin, margin:w-margin]\n",
    "    mask_cut[0].data = mask_cut[0].data[:, margin:h-margin, margin:w-margin]\n",
    "    \n",
    "    # cut on optical images\n",
    "    h1, w1, _ = np.shape(img)\n",
    "    if min(h1, w1) <= 0:  raise ValueError(\"Cube size equals to zero.\")\n",
    "    margin_opt = margin * pix\n",
    "    opti_cut = opti.copy()\n",
    "    opti_cut[0].data = opti_cut[0].data[:, margin_opt:h1-margin_opt, margin_opt:w1-margin_opt]\n",
    "    img_cut = img[margin_opt:h1-margin_opt, margin_opt:w1-margin_opt]\n",
    "    \n",
    "    # cut moment-0 maps\n",
    "    mom0_cut        = mom0[margin:h-margin, margin:w-margin]\n",
    "    masked_mom0_cut = masked_mom0[margin:h-margin, margin:w-margin]\n",
    "    \n",
    "    # update wcs\n",
    "    wcs_cut     = wcs.copy()\n",
    "    wcs_opt_cut = wcs_opt.copy()\n",
    "    wcs_cut.wcs.crpix[0]     -= margin; wcs_cut.wcs.crpix[1] -= margin\n",
    "    wcs_opt_cut.wcs.crpix[0] -= margin*pix; wcs_opt_cut.wcs.crpix[1] -= margin*pix\n",
    "\n",
    "    return cube_cut, mask_cut, opti_cut, img_cut, mom0_cut, masked_mom0_cut, wcs_cut, wcs_opt_cut, *cube_cut[0].data.shape\n",
    "\n",
    "# run this if you want to cut your data\n",
    "# cube, mask, opti, img, mom0, masked_mom0, wcs, wcs_opt, z, h, w = center_cut(150)"
   ]
  },
  {
   "cell_type": "markdown",
   "id": "2e15d31d-e3d7-40ef-9e6e-f32f4e68884c",
   "metadata": {
    "tags": []
   },
   "source": [
    "## 2. Optical sources\n",
    "\n",
    "- If you have the optical catalogs of the sources to deblend, please skip to **section 2.3**. "
   ]
  },
  {
   "cell_type": "markdown",
   "id": "7ca6e4d2-1e43-433c-9569-d3f6ffdc66c5",
   "metadata": {
    "jp-MarkdownHeadingCollapsed": true,
    "tags": []
   },
   "source": [
    "### 2.1 Generate star masks using Gaia DR3 catalog  \n",
    "\n",
    "As the first step, we mask the stars in the optical image using Gaia data.\n",
    "\n",
    "#### Free Parameters\n",
    "- **mask size**  \n",
    "    We use circles to mask the stars in optical images. Here we set the mask radii based on the Gaia RP-band fluxes. Mask dilation may be included in the future. Please feel free to adjust these size parameters.\n",
    "    \n",
    "- **Gaia star-galaxy separation**  \n",
    "    We use an empirical criterion based on Gaia colors to skip galaxies in the Gaia catalog while retaining most of the stars: $\\rm G - 0.4G_{RP}-0.6G_{BP} > 0.3$. A better way to do this is to download the Gaia catalog containing the 'ruwe' parameter [here](https://gea.esac.esa.int/archive/), then using the criterion $\\rm ruwe > 1.4$."
   ]
  },
  {
   "cell_type": "code",
   "execution_count": null,
   "id": "95ef4c17-5fe8-49da-8e38-ab11ed276497",
   "metadata": {
    "tags": []
   },
   "outputs": [],
   "source": [
    "from astroquery.gaia import Gaia\n",
    "\n",
    "Gaia.MAIN_GAIA_TABLE = \"gaiadr3.gaia_source\"\n",
    "Gaia.ROW_LIMIT = -1\n",
    "\n",
    "# run astroquery. make sure your network connection is good\n",
    "gaia_table = Gaia.query_object_async(coords, width=w/3000*pix*u.deg, height=h/3000*pix*u.deg)\n",
    "\n",
    "# generate star masks\n",
    "star_mask  = np.zeros_like(opti[0].data[0]).astype(np.int8)\n",
    "\n",
    "for star in gaia_table:\n",
    "    star_coord = SkyCoord(ra=star[\"ra\"], dec=star[\"dec\"],\n",
    "                          unit=(u.degree, u.degree), frame='icrs')\n",
    "    star_pixel = wcs_opt[0].world_to_pixel(star_coord)\n",
    "    y_pix, x_pix = int(star_pixel[1]), int(star_pixel[0])\n",
    "    \n",
    "    # Gaia star-galaxy separation: skip galaxies \n",
    "    if star[\"phot_g_mean_mag\"]-0.4*star[\"phot_rp_mean_mag\"]-0.6*star[\"phot_bp_mean_mag\"] > 0.3:\n",
    "        continue\n",
    "        \n",
    "    # mask radius = r\n",
    "    # You may adjust these numbers according to your data\n",
    "    try: r = int((star[\"phot_rp_mean_flux\"])**0.1) * 3 + 1\n",
    "    except: r = 2\n",
    "    \n",
    "    # add a circle to the mask\n",
    "    for i in range(y_pix-r, y_pix+r):\n",
    "        for j in range(x_pix-r, x_pix+r):\n",
    "            if (j - x_pix)**2 + (i - y_pix)**2 < r**2:\n",
    "                try: \n",
    "                    star_mask[i][j] = 1\n",
    "                except: \n",
    "                    pass\n",
    "                    \n",
    "# ~ 10 seconds to finish for the demo"
   ]
  },
  {
   "cell_type": "markdown",
   "id": "d0cac8ff-b60f-4abc-a37a-a2f85dd7d36d",
   "metadata": {
    "jp-MarkdownHeadingCollapsed": true,
    "tags": []
   },
   "source": [
    "### 2.2. source detection on optical images\n",
    "\n",
    "We use the source detection results on optical images as \"priors\" for the 3D deblending on HI data cubes. So a significant overlap between the stellar components and their corresponding HI detections is required. Otherwise, you may have to set the labels manually. \n",
    "\n",
    "#### Free Parameters\n",
    "parameters of [_photutils.segmentation.detect_sources_](https://photutils.readthedocs.io/en/stable/api/photutils.segmentation.detect_sources.html) and [_photutils.segmentation.deblend_sources_](https://photutils.readthedocs.io/en/stable/api/photutils.segmentation.deblend_sources.html):\n",
    "   - **detect threshold:** nsigma=3 \n",
    "   - **smooth kernel:** make_2dgaussian_kernel(fwhm=4, size=21) [pixel]\n",
    "   - nlevels=16, contrast=0.1, npixel=300"
   ]
  },
  {
   "cell_type": "code",
   "execution_count": null,
   "id": "99584e44-79c5-47d7-a668-14e92c5d3083",
   "metadata": {
    "tags": []
   },
   "outputs": [],
   "source": [
    "from astropy.convolution import Gaussian1DKernel, convolve\n",
    "from photutils.segmentation import detect_threshold, detect_sources, deblend_sources, make_2dgaussian_kernel\n",
    "\n",
    "# optical image data\n",
    "data = np.ma.masked_array(opti[0].data[0],star_mask==1)\n",
    "data = opti[0].data[0]\n",
    "data[star_mask==1] = 0\n",
    "\n",
    "# source detection and deblending using photutils. \n",
    "## feel free to adjust the following parameters for better source detection. ##\n",
    "threshold = detect_threshold(data, nsigma=3)\n",
    "fwhm = 3\n",
    "kernel = make_2dgaussian_kernel(fwhm, size=13)\n",
    "\n",
    "npixels = 300\n",
    "\n",
    "data_smooth = convolve(data, kernel) # smoothed optical images\n",
    "\n",
    "segm = detect_sources(data_smooth, threshold, npixels=npixels)\n",
    "segm_deblend = deblend_sources(data_smooth, segm, npixels=npixels, nlevels=16, contrast=0.1)\n",
    "\n",
    "# try to reduce the value of npixel if only one source is detected\n",
    "while np.max(segm_deblend) < 2:\n",
    "    npixels -= 10\n",
    "    segm = detect_sources(data_smooth, threshold, npixels=npixels)\n",
    "    segm_deblend = deblend_sources(data_smooth, segm, npixels=npixels, nlevels=16, contrast=0.1)\n",
    "\n",
    "# deblending results with background masked\n",
    "masked_deb = np.ma.masked_array(segm_deblend, np.abs(segm_deblend) < 1e-8)\n",
    "\n",
    "# show the results\n",
    "plt.figure(figsize=(18,6))\n",
    "plt.subplot(131)\n",
    "plt.imshow(np.cbrt(data), vmin=-.1, vmax=.5)\n",
    "plt.subplot(132)\n",
    "plt.imshow(segm, cmap=segm.cmap)\n",
    "plt.subplot(133)\n",
    "plt.imshow(masked_deb, cmap=segm_deblend.cmap)\n",
    "plt.imshow(np.cbrt(data), alpha=.7, cmap=\"Greys\", vmin=-.1, vmax=.6)"
   ]
  },
  {
   "cell_type": "markdown",
   "id": "aad71fe9-1ec2-42b6-9768-bc01cbc141eb",
   "metadata": {},
   "source": [
    "### 2.3 using source catalogs\n",
    "\n",
    "If you have galaxy coordinate & shape info from catalogs, you can directly initialize the 2D markers without the source detection steps.  \n",
    "Here's an example:"
   ]
  },
  {
   "cell_type": "code",
   "execution_count": null,
   "id": "e5b4c130-fbfc-480a-97ab-124c4d949242",
   "metadata": {},
   "outputs": [],
   "source": [
    "from astropy.table import Table\n",
    "from photutils.aperture import EllipticalAperture, CircularAperture\n",
    "from astropy.convolution import convolve, Gaussian1DKernel\n",
    "from photutils.segmentation import make_2dgaussian_kernel\n",
    "\n",
    "# input source table (e.g., SGA2020)\n",
    "src_table = Table(names=['ra', 'dec', 'PA', 'sma', 'e'],\n",
    "                  data=np.array([[158.9368, -28.7691, 107.8, 23.8, 0.36], \n",
    "                                 [158.9026, -28.7686, 154.7, 24.7, 0.65]]))\n",
    "\n",
    "masked_deb = np.full((h*pix, w*pix), 0)\n",
    "pix_opt = wcs_opt.wcs.cd[1][1] * 3600\n",
    "kernel  = make_2dgaussian_kernel(fwhm=1, size=13)\n",
    "data    = opti[0].data[0].copy()\n",
    "data_smooth = convolve(data, kernel)\n",
    "\n",
    "for i in range(len(src_table)):\n",
    "    gal_coord = SkyCoord(ra=src_table[\"ra\"][i], dec=src_table[\"dec\"][i], unit='deg')\n",
    "    xcen, ycen = wcs_opt[0].world_to_pixel(gal_coord)\n",
    "    aper = EllipticalAperture((xcen/pix, ycen/pix), \n",
    "                              a=src_table[\"sma\"][i] / pix_opt, \n",
    "                              b=src_table[\"sma\"][i] * (1-src_table[\"e\"][i]) / pix_opt, \n",
    "                              theta=(90+src_table[\"PA\"][i])*u.deg)\n",
    "    segment = aper.to_mask(method='center')\n",
    "    masked_deb[int(ycen)-segment.shape[0]//2+1:int(ycen)+1-segment.shape[0]//2+segment.shape[0],\n",
    "               int(xcen)-segment.shape[1]//2+1:int(xcen)+1-segment.shape[1]//2+segment.shape[1]] = segment.data * (i + 1)"
   ]
  },
  {
   "cell_type": "markdown",
   "id": "9242ee25-9006-41c4-ab68-2627c3e37632",
   "metadata": {
    "tags": []
   },
   "source": [
    "## 3. deblending of the moment-0 map (2D)\n",
    "\n",
    "We use the traditional watershed algorithm to deblend galaxy pairs. The results of this 2D method are similar to the 3D methods below when the separation between galaxies is large enough (see Figure 11 in the paper). It also helps to test our code. \n",
    "\n",
    "In this step, we run the watershed algorithm twice. After the first run, markers that grow less than a threshold (_min_growth_ pixels) in area are removed, because they are very likely to be contaminant sources.\n",
    "\n",
    "#### Free Parameters\n",
    "- **find central regions**\n",
    "   - make_2dgaussian_kernel(fwhm=3, size=15): the kernel to smooth the optical image\n",
    "   - thresh=0: within each segment of the deblending results above, pixels with **[flux > mean + std * thresh]** are set as the marker\n",
    "- **mom0_ext**  \n",
    "    smooth the moment-0 map or not (in line 28, not important)\n",
    "- **threshold of the minimal growth**  \n",
    "    min_growth = 5*pix^2"
   ]
  },
  {
   "cell_type": "code",
   "execution_count": null,
   "id": "9dc5470e-6b94-4ba2-8c45-0176c3c09f82",
   "metadata": {
    "tags": []
   },
   "outputs": [],
   "source": [
    "from skimage.segmentation import watershed\n",
    "\n",
    "def extend(array, num=pix, smooth=False):\n",
    "    '''\n",
    "    enlarge and smooth an image.\n",
    "    '''\n",
    "    shape = np.shape(array)\n",
    "    dim = len(shape)\n",
    "    if dim == 3: extend_array = np.zeros((shape[0], num*shape[1], num*shape[2]))\n",
    "    elif dim==2: extend_array = np.zeros((num*shape[0], num*shape[1]))\n",
    "    else: raise ValueError(\"Dimension must be 2 or 3.\")\n",
    "    for i in range(shape[-2]):\n",
    "        for j in range(shape[-1]):\n",
    "            if dim == 3: \n",
    "                for zz in range(shape[0]):\n",
    "                    extend_array[zz, i*num:(i+1)*num, j*num:(j+1)*num] = array[zz,i,j]\n",
    "            elif dim==2: \n",
    "                extend_array[i*num:(i+1)*num, j*num:(j+1)*num] = array[i][j]\n",
    "    # 3d smoothing is time-consuming\n",
    "    if smooth:\n",
    "        kernel2d = make_2dgaussian_kernel(fwhm=num,size=3*num+1)\n",
    "        if dim == 2: \n",
    "            extend_array = convolve(extend_array, kernel2d)\n",
    "        elif dim == 3: \n",
    "            for freq in range(len(extend_array)):\n",
    "                extend_array[freq] = convolve(extend_array[freq], kernel2d)\n",
    "    return extend_array\n",
    "\n",
    "# Spaxel size of WALLABY data is 6 times that of the DESI images, \n",
    "# so we divide each WALLABY spaxel into 6*6 subpixels and smooth them.\n",
    "mom0_ext = extend(mom0, smooth=True)\n",
    "\n",
    "# find the central regions of galaxies and set them as markers\n",
    "markers2d = np.zeros_like(opti[0].data[0]).astype(np.int8)\n",
    "for i in np.unique(masked_deb):\n",
    "    if i == 0 or np.ma.is_masked(i): \n",
    "        continue\n",
    "    thresh = 1.\n",
    "    segment = (masked_deb == i)\n",
    "    mean, std = np.mean(data_smooth[segment]), np.std(data_smooth[segment])\n",
    "    markers2d[np.logical_and(data_smooth > mean + std * thresh, segment)] = i\n",
    "\n",
    "# initial watershed (res: result)\n",
    "res2d = watershed(-mom0_ext, markers2d, mask=np.abs(mom0_ext)>1e-6, \n",
    "                  connectivity=2)\n",
    "\n",
    "# clean markers that grow less than min_growth pixels\n",
    "min_growth = 5 * pix**2\n",
    "for i in np.unique(res2d):\n",
    "    if i > 0 and np.sum(res2d == i) < np.sum(markers2d == i) + min_growth:\n",
    "        markers2d[res2d==i] = 0  \n",
    "        \n",
    "# rerun watershed\n",
    "res2d = watershed(-mom0_ext, markers2d, mask=np.abs(mom0_ext)>1e-6,\n",
    "                  connectivity=2)\n",
    "\n",
    "# get every segments of the deblend results\n",
    "segments = []\n",
    "for i in np.unique(res2d):\n",
    "    if i > 0:\n",
    "        segments.append(np.ma.masked_array(mom0_ext, np.abs(res2d-i)>1e-4))\n",
    "\n",
    "# plot the results\n",
    "plt.figure(figsize=(12,5))\n",
    "plt.subplot(121, projection=wcs)\n",
    "plt.imshow(markers2d, extent=[0,w,0,h], alpha=0.4, cmap=\"jet\")\n",
    "plt.imshow([255]*3 - img, alpha=0.5, extent=[0,w,0,h])\n",
    "\n",
    "plt.subplot(122, projection=wcs)\n",
    "cmaps = [\"Reds\", \"Blues\", \"Purples\", \"Greens\", \"Greys\", \"Oranges\"] * 10\n",
    "for n, seg in enumerate(segments):\n",
    "    plt.imshow(seg, cmap=cmaps[n], alpha=0.8, extent=[0,w,0,h])\n",
    "    plt.clim(-np.max(masked_mom0)/20, np.max(masked_mom0)/1.5)   \n",
    "plt.imshow([255]*3 - img, alpha=0.5, extent=[0,w,0,h])"
   ]
  },
  {
   "cell_type": "markdown",
   "id": "04921451-158b-474c-9c8b-13045d9335b8",
   "metadata": {},
   "source": [
    "In the right panel above, the moment-0 map is sepatated into two components (blue / red)."
   ]
  },
  {
   "cell_type": "markdown",
   "id": "39811bdc-092c-45c6-ac47-7f6799e4e1e2",
   "metadata": {},
   "source": [
    "## 4. 3D deblending\n",
    "\n",
    "There are two steps to deblend galaxies in a 3D data cube. Both steps apply the watershed algorithm, while their main difference is where the markers are set.\n",
    "\n",
    "1. **fixed-3D:** in all channels, markers are placed in the same place as in the 2D deblending method.\n",
    "2. **peak-3D:** find 3D peaks in the smoothed data cube, then assign labels to these peaks according to the result of fixed-3D.\n",
    "\n",
    "Before running _watershed_, we should smooth the data cube along the frequency axis to increase S/N.\n",
    "\n",
    "#### Free Parameters\n",
    "- **smooth kernel**  \n",
    "    smooth=4.0: the smoothness of data along the frequency axis.\n",
    "- **peak finder**  \n",
    "    We modified the function [_photutils.detection.find_peaks_](https://photutils.readthedocs.io/en/stable/api/photutils.detection.find_peaks.html) to make it applicable to 3D arrays. It shares similar parameters as the 2D version.\n",
    "- **minimum growth**  \n",
    "    min_growth = z*pix^2: same as that in 2D deblending "
   ]
  },
  {
   "cell_type": "code",
   "execution_count": null,
   "id": "a3804bf7-2452-4fe8-9a3b-44d63c35204b",
   "metadata": {
    "tags": []
   },
   "outputs": [],
   "source": [
    "from utils.find_peaks_3d import find_peaks\n",
    "\n",
    "cube_ext = extend(cube[0].data, smooth=True)\n",
    "mask_ext = extend(mask[0].data)\n",
    "\n",
    "def freq_smooth(cube, bin_size=0, smooth=0):\n",
    "    '''\n",
    "    bin or smooth the data cube along the frequency axis.\n",
    "    '''\n",
    "    if bin_size:    # bin\n",
    "        shape = cube.shape\n",
    "        cube_new = np.zeros((shape[0]//bin_size, shape[1], shape[2]))\n",
    "        for freq in range(cube.shape[0]//bin_size):\n",
    "            cube_new[freq] = np.sum(cube[freq*bin_size : (freq+1)*bin_size], axis=0)\n",
    "    elif smooth:    # smooth\n",
    "        cube_new = np.zeros_like(cube)\n",
    "        kernel = Gaussian1DKernel(smooth)\n",
    "        for i in range(cube.shape[1]):\n",
    "            for j in range(cube.shape[2]):\n",
    "                cube_new[:,i,j] = convolve(cube[:,i,j], kernel)\n",
    "    else: cube_new = cube  # do nothing\n",
    "    return cube_new\n",
    "\n",
    "# bin / smooth the data\n",
    "mask_smooth = mask_ext\n",
    "cube_smooth = freq_smooth(cube_ext, smooth=0)\n",
    "\n",
    "markers3d = np.zeros_like(cube_smooth).astype(np.int8)\n",
    "\n",
    "## Step 1: fixed-3D ##\n",
    "for freq in range(len(cube_smooth)):\n",
    "    markers3d[freq] = markers2d\n",
    "\n",
    "res3d0 = watershed(-cube_smooth, markers3d, mask=np.abs(mask_smooth)>1e-6,\n",
    "                   connectivity=2)\n",
    "\n",
    "# clean markers that grow less than min_growth pixels in area\n",
    "min_growth = pix**2 * z\n",
    "for i in np.unique(res3d0):\n",
    "    if i > 0 and np.sum(res3d0 == i) < np.sum(markers3d == i) + min_growth:\n",
    "        markers3d[res3d0==i] = 0\n",
    "\n",
    "res3d0 = watershed(-cube_smooth, markers3d, mask=np.abs(mask_smooth)>1e-6,\n",
    "                   connectivity=2)\n",
    "    \n",
    "## Step 2: peak-3D ##\n",
    "threshold = np.zeros_like(cube_smooth) + np.nanstd(cube_smooth) * 3\n",
    "peaks = find_peaks(cube_smooth, threshold, box_size=10, npeaks=10,      # this is fragile at the moment ...\n",
    "                   mask=np.abs(mask_smooth)<1e-6)\n",
    "\n",
    "markers3d[:] = 0  # reset markers\n",
    "for peak in peaks:\n",
    "    i,j,k = peak[\"z_peak\"], peak[\"y_peak\"], peak[\"x_peak\"]\n",
    "    # place markers in the vicinity of the flux peaks\n",
    "    markers3d[i-3:i+3,j-2:j+2,k-2:k+2] = res3d0[i-3:i+3,j-2:j+2,k-2:k+2]\n",
    "    # you can add some markers manually \n",
    "    # (manual markers here ...)\n",
    "\n",
    "res3d = watershed(-cube_smooth, markers3d, mask=np.abs(mask_smooth)>1e-8)\n",
    "\n",
    "# if you want to change back to the fixed-3D results, simply use:\n",
    "# res3d = res3d0.copy()\n",
    "\n",
    "# we have finished, now just re-arrange the indices.\n",
    "for n, i in enumerate(np.unique(res3d)):\n",
    "    res3d[res3d == i] = n\n",
    "\n",
    "# running this cell takes a long time for large data cubes. \n",
    "# ~ 10 seconds to finish for the demo"
   ]
  },
  {
   "cell_type": "markdown",
   "id": "7efe2f57-b8be-41d9-bf43-28070fc69a18",
   "metadata": {},
   "source": [
    "Now we have three deblending results (2D: _res2d_, fixed-3D: _red3d0_, peak-3D: _res3d_). Generally, the **peak 3D** method performs the best among all these methods in most cases, and the 2D method generally performs worse than its 3D counterparts.  \n",
    "\n",
    "These results can be used to derive other properties of galaxies.  \n",
    "<br></br><br>"
   ]
  },
  {
   "cell_type": "markdown",
   "id": "77b0b70d-fcbb-4efb-84b2-cea3c5f91bb1",
   "metadata": {
    "tags": []
   },
   "source": [
    "## 5. visualization  \n",
    "Here are some simple ways to take a glance at the deblending results."
   ]
  },
  {
   "cell_type": "markdown",
   "id": "2a53a982-6705-429e-a6d8-95962f419631",
   "metadata": {
    "tags": []
   },
   "source": [
    "#### channel map"
   ]
  },
  {
   "cell_type": "code",
   "execution_count": null,
   "id": "0c533f70-ca5c-4d3b-a37d-d327a3c78fc5",
   "metadata": {
    "tags": []
   },
   "outputs": [],
   "source": [
    "from ipywidgets import interact\n",
    "\n",
    "@interact(channel=(0, -1+len(cube_smooth)))\n",
    "def plot_cube(channel):\n",
    "    plt.figure(figsize=(12,6))\n",
    "\n",
    "    plt.subplot(121, projection=wcs)\n",
    "    plt.imshow((cube_smooth * mask_smooth)[channel], cmap=\"gray\", extent=[0,w,0,h])\n",
    "    plt.imshow(np.ma.masked_array(markers3d[channel],markers3d[channel]==0),\n",
    "               cmap=\"autumn\", extent=[0,w,0,h])\n",
    "\n",
    "    plt.subplot(122, projection=wcs)\n",
    "    plt.imshow(res3d[channel], cmap=\"jet\", extent=[0,w,0,h])\n",
    "    plt.clim(0, np.max(res3d)+1)\n",
    "    plt.imshow([255] * 3 - img, alpha=0.7, extent=[0,w,0,h])\n",
    "    plt.scatter(peaks[\"x_peak\"]/pix, peaks[\"y_peak\"]/pix, c=\"r\", s=10)\n",
    "    plt.legend((\"HI peaks\",))"
   ]
  },
  {
   "cell_type": "markdown",
   "id": "2363a4a2-f284-464c-b59c-121c019ea48e",
   "metadata": {
    "tags": []
   },
   "source": [
    "#### deblended moment-0 maps\n",
    "\n",
    "- Plot the momrnt-0 maps for the two deblended galaxies separately."
   ]
  },
  {
   "cell_type": "code",
   "execution_count": null,
   "id": "5d36e6d7-4c18-4848-8f3e-bcc070a22f80",
   "metadata": {
    "tags": []
   },
   "outputs": [],
   "source": [
    "segments3d = []\n",
    "for i in np.unique(res3d):\n",
    "    if i > 0:\n",
    "        segments3d.append([np.ma.masked_array(cube_smooth, np.abs(res3d-i)>0.1), i])\n",
    "L = len(segments3d) + 1\n",
    "\n",
    "plt.figure(figsize=(L * 4, 4))\n",
    "plt.subplots_adjust(wspace=0.05)\n",
    "\n",
    "plt.subplot(1, L, 1, projection=wcs)\n",
    "plt.imshow(masked_mom0, alpha=0.9, cmap=\"jet\")\n",
    "plt.clim(0, np.max(masked_mom0))\n",
    "plt.imshow([255] * 3 - img, alpha=0.7, extent=[0,w,0,h])\n",
    "plt.title(name)\n",
    "\n",
    "for n, seg3d in enumerate(segments3d):\n",
    "    plt.subplot(1, L, n+2)\n",
    "    plt.title(f\"Galaxy {seg3d[1]}\")\n",
    "    ax = plt.gca()\n",
    "    ax.set_yticklabels([])\n",
    "    ax.set_xticklabels([])\n",
    "    plt.imshow([255] * 3 - img)\n",
    "    plt.imshow(np.nansum(seg3d[0], axis=0), cmap=\"jet\", alpha=0.25, origin=\"lower\")\n",
    "    plt.clim(0, np.max(masked_mom0))"
   ]
  },
  {
   "cell_type": "markdown",
   "id": "06a65087-8f69-42eb-b860-0f9106bb033f",
   "metadata": {
    "tags": []
   },
   "source": [
    "#### different projections of the cube"
   ]
  },
  {
   "cell_type": "code",
   "execution_count": null,
   "id": "7ef359e0-bb10-40a2-b6b2-c2d65f269c5d",
   "metadata": {
    "tags": []
   },
   "outputs": [],
   "source": [
    "plt.figure(figsize=(16,9))\n",
    "plt.subplot(231, projection=wcs_opt.celestial)\n",
    "plt.imshow(img, extent=[0,w*pix,0,h*pix])\n",
    "plt.imshow(np.nansum(mask_smooth * cube_smooth, axis=0), cmap=\"jet\", alpha=0.3)\n",
    "plt.title(\"Moment 0\"); plt.xlabel(\" \"); plt.ylabel(\" \")\n",
    "plt.subplot(232)\n",
    "plt.pcolor(np.nansum(mask_smooth * cube_smooth, axis=1))\n",
    "plt.ylabel(\"channel\")\n",
    "plt.subplot(233)\n",
    "plt.pcolor(np.nansum(mask_smooth * cube_smooth, axis=2).T)\n",
    "plt.colorbar()\n",
    "plt.ylabel(\"DEC.\")\n",
    "plt.subplot(234, projection=wcs_opt.celestial)\n",
    "plt.title(\"3D deblending projected\"); plt.xlabel(\" \"); plt.ylabel(\" \")\n",
    "plt.imshow(np.nansum(res3d, axis=0) / np.nansum(res3d > 0, axis=0), cmap=\"jet\")\n",
    "plt.imshow([255] * 3 - img, alpha=.5, extent=[0,w*pix,0,h*pix])\n",
    "plt.subplot(235)\n",
    "plt.pcolor(np.nansum(res3d, axis=1) / np.nansum(res3d > 0, axis=1), cmap=\"jet\")\n",
    "plt.xlabel(\"R.A.\"); plt.ylabel(\"channel\")\n",
    "plt.subplot(236)\n",
    "plt.pcolor((np.nansum(res3d, axis=2) / np.nansum(res3d > 0, axis=2)).T, cmap=\"jet\")\n",
    "plt.ylabel(\"DEC.\"); plt.xlabel(\"channel\")\n",
    "plt.colorbar()"
   ]
  },
  {
   "cell_type": "markdown",
   "id": "89e8873c-97ed-4731-99e6-b13922f3b405",
   "metadata": {},
   "source": [
    "## 7. save segmentation"
   ]
  },
  {
   "cell_type": "code",
   "execution_count": null,
   "id": "711b7dd7-71c6-4800-9dfa-186f12711609",
   "metadata": {},
   "outputs": [],
   "source": [
    "# save_path = ......\n",
    "fits.writeto(save_path, res3d, header=cube[0].header, overwrite=True)"
   ]
  },
  {
   "cell_type": "markdown",
   "id": "f6ac6d84-ab65-464a-ac6b-06a580e9039a",
   "metadata": {
    "tags": []
   },
   "source": [
    "<br></br>\n",
    "#### Get DESI images from https://www.legacysurvey.org/viewer"
   ]
  },
  {
   "cell_type": "code",
   "execution_count": null,
   "id": "ebf9aa78-1d2b-4ee9-8090-66701314b665",
   "metadata": {
    "tags": []
   },
   "outputs": [],
   "source": [
    "from astropy.wcs import WCS\n",
    "\n",
    "cube = cube        # input data cube\n",
    "path = \"./data\"    # path to save the images\n",
    "layer = \"ls-dr10\"  # other choices: ls-dr9, sdss, hsc-dr2, unwise-neo7, galex, ...\n",
    "pixel_scale = 1.0  # in arcsec\n",
    "\n",
    "# Important: Now the code requires that the spaxel size of the data\n",
    "#            cube is an **integer multiple** of this pixel_scale. \n",
    "# For example, the spaxel size of WALLABY data is 6'', \n",
    "# so we use DESI images with pixel_scale = 1''.\n",
    "\n",
    "pix = round(cube[0].header[\"CDELT2\"] / pixel_scale * 3600)  # pix = 6''/1'' = 6\n",
    "\n",
    "wcs = WCS(cube[0].header).celestial\n",
    "z, h, w = np.shape(cube[0].data)   # shape of the data cube\n",
    "coords = wcs.pixel_to_world(w/2-0.5, h/2-0.5)\n",
    "ra, dec = coords.ra.value, coords.dec.value\n",
    "\n",
    "# .fits cutout\n",
    "url_fits = f\"https://www.legacysurvey.org/viewer/cutout.fits?ra={str(ra)}&dec={str(dec)}&layer={layer}&pixscale={str(pixel_scale)}&width={str(w*pix)}&height={str(h*pix)}\"\n",
    "hdul = fits.open(url_fits)\n",
    "hdul.writeto(path + \"/desi.fits\", overwrite=True)\n",
    "\n",
    "# .jpg cutout\n",
    "import requests\n",
    "from io import BytesIO\n",
    "\n",
    "url_jpg = f\"https://www.legacysurvey.org/viewer/cutout.jpg?ra={str(ra)}&dec={str(dec)}&layer={layer}&pixscale={str(pixel_scale)}&width={str(w*pix)}&height={str(h*pix)}\"\n",
    "response = requests.get(url_jpg)\n",
    "Image.open(BytesIO(response.content)).save(\"./data/desi.jpg\", overwrite=True)"
   ]
  }
 ],
 "metadata": {
  "kernelspec": {
   "display_name": "Python 3 (ipykernel)",
   "language": "python",
   "name": "python3"
  },
  "language_info": {
   "codemirror_mode": {
    "name": "ipython",
    "version": 3
   },
   "file_extension": ".py",
   "mimetype": "text/x-python",
   "name": "python",
   "nbconvert_exporter": "python",
   "pygments_lexer": "ipython3",
   "version": "3.9.18"
  },
  "toc-autonumbering": false,
  "toc-showmarkdowntxt": false
 },
 "nbformat": 4,
 "nbformat_minor": 5
}
